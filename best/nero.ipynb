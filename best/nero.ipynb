{
 "cells": [
  {
   "cell_type": "markdown",
   "metadata": {
    "id": "fnE1_J-4dhSR"
   },
   "source": [
    "## Загрузим нужные библиотеки"
   ]
  },
  {
   "cell_type": "code",
   "execution_count": 1,
   "metadata": {
    "id": "uaKzqUxsdjDa"
   },
   "outputs": [
    {
     "name": "stdout",
     "output_type": "stream",
     "text": [
      "Requirement already satisfied: catboost in /home/gennalll/.local/lib/python3.8/site-packages (1.1.1)\n",
      "Requirement already satisfied: graphviz in /home/gennalll/.local/lib/python3.8/site-packages (from catboost) (0.20.1)\n",
      "Requirement already satisfied: matplotlib in /usr/lib/python3/dist-packages (from catboost) (3.1.2)\n",
      "Requirement already satisfied: numpy>=1.16.0 in /home/gennalll/.local/lib/python3.8/site-packages (from catboost) (1.23.3)\n",
      "Requirement already satisfied: pandas>=0.24.0 in /home/gennalll/.local/lib/python3.8/site-packages (from catboost) (1.4.1)\n",
      "Requirement already satisfied: scipy in /home/gennalll/.local/lib/python3.8/site-packages (from catboost) (1.8.0)\n",
      "Requirement already satisfied: plotly in /home/gennalll/.local/lib/python3.8/site-packages (from catboost) (5.10.0)\n",
      "Requirement already satisfied: six in /home/gennalll/.local/lib/python3.8/site-packages (from catboost) (1.16.0)\n",
      "Requirement already satisfied: python-dateutil>=2.8.1 in /home/gennalll/.local/lib/python3.8/site-packages (from pandas>=0.24.0->catboost) (2.8.2)\n",
      "Requirement already satisfied: pytz>=2020.1 in /home/gennalll/.local/lib/python3.8/site-packages (from pandas>=0.24.0->catboost) (2021.3)\n",
      "Requirement already satisfied: tenacity>=6.2.0 in /home/gennalll/.local/lib/python3.8/site-packages (from plotly->catboost) (8.0.1)\n"
     ]
    },
    {
     "name": "stderr",
     "output_type": "stream",
     "text": [
      "2022-11-09 22:03:50.302014: I tensorflow/core/platform/cpu_feature_guard.cc:193] This TensorFlow binary is optimized with oneAPI Deep Neural Network Library (oneDNN) to use the following CPU instructions in performance-critical operations:  AVX2 FMA\n",
      "To enable them in other operations, rebuild TensorFlow with the appropriate compiler flags.\n",
      "2022-11-09 22:03:50.430599: W tensorflow/stream_executor/platform/default/dso_loader.cc:64] Could not load dynamic library 'libcudart.so.11.0'; dlerror: libcudart.so.11.0: cannot open shared object file: No such file or directory\n",
      "2022-11-09 22:03:50.430617: I tensorflow/stream_executor/cuda/cudart_stub.cc:29] Ignore above cudart dlerror if you do not have a GPU set up on your machine.\n",
      "2022-11-09 22:03:50.465498: E tensorflow/stream_executor/cuda/cuda_blas.cc:2981] Unable to register cuBLAS factory: Attempting to register factory for plugin cuBLAS when one has already been registered\n",
      "2022-11-09 22:03:51.082407: W tensorflow/stream_executor/platform/default/dso_loader.cc:64] Could not load dynamic library 'libnvinfer.so.7'; dlerror: libnvinfer.so.7: cannot open shared object file: No such file or directory\n",
      "2022-11-09 22:03:51.082476: W tensorflow/stream_executor/platform/default/dso_loader.cc:64] Could not load dynamic library 'libnvinfer_plugin.so.7'; dlerror: libnvinfer_plugin.so.7: cannot open shared object file: No such file or directory\n",
      "2022-11-09 22:03:51.082484: W tensorflow/compiler/tf2tensorrt/utils/py_utils.cc:38] TF-TRT Warning: Cannot dlopen some TensorRT libraries. If you would like to use Nvidia GPU with TensorRT, please make sure the missing libraries mentioned above are installed properly.\n"
     ]
    }
   ],
   "source": [
    "!pip install catboost\n",
    "import pandas as pd\n",
    "import seaborn as sns\n",
    "import matplotlib.pyplot as plt\n",
    "import sklearn as sklearn\n",
    "from sklearn.model_selection import train_test_split\n",
    "from sklearn.preprocessing import StandardScaler\n",
    "from sklearn.ensemble import RandomForestClassifier\n",
    "from sklearn.model_selection import GridSearchCV\n",
    "from sklearn.multiclass import OneVsRestClassifier\n",
    "from sklearn.naive_bayes import GaussianNB\n",
    "from sklearn.pipeline import Pipeline\n",
    "from sklearn.model_selection import RandomizedSearchCV\n",
    "from sklearn.linear_model import LogisticRegression\n",
    "from sklearn.model_selection import cross_validate\n",
    "from sklearn.preprocessing import RobustScaler\n",
    "from sklearn.preprocessing import MinMaxScaler\n",
    "from scipy.stats import uniform\n",
    "from sklearn.metrics import classification_report\n",
    "from sklearn.ensemble import GradientBoostingClassifier\n",
    "from sklearn.ensemble import HistGradientBoostingClassifier\n",
    "from sklearn.ensemble import VotingClassifier\n",
    "from sklearn.naive_bayes import ComplementNB\n",
    "from sklearn.naive_bayes import BernoulliNB\n",
    "from sklearn.tree import DecisionTreeClassifier\n",
    "from sklearn.model_selection import StratifiedKFold\n",
    "from sklearn import svm\n",
    "from imblearn.over_sampling import SMOTE \n",
    "from sklearn.preprocessing import PolynomialFeatures\n",
    "import tensorflow as tf \n",
    "import numpy as np\n",
    "import pickle\n",
    "from sklearn.naive_bayes import MultinomialNB\n",
    "import catboost as cb\n",
    "%matplotlib inline"
   ]
  },
  {
   "cell_type": "code",
   "execution_count": 2,
   "metadata": {},
   "outputs": [
    {
     "data": {
      "text/html": [
       "<div>\n",
       "<style scoped>\n",
       "    .dataframe tbody tr th:only-of-type {\n",
       "        vertical-align: middle;\n",
       "    }\n",
       "\n",
       "    .dataframe tbody tr th {\n",
       "        vertical-align: top;\n",
       "    }\n",
       "\n",
       "    .dataframe thead th {\n",
       "        text-align: right;\n",
       "    }\n",
       "</style>\n",
       "<table border=\"1\" class=\"dataframe\">\n",
       "  <thead>\n",
       "    <tr style=\"text-align: right;\">\n",
       "      <th></th>\n",
       "      <th>id</th>\n",
       "      <th>oper_type + oper_attr</th>\n",
       "      <th>index_oper</th>\n",
       "      <th>type</th>\n",
       "      <th>priority</th>\n",
       "      <th>is_privatecategory</th>\n",
       "      <th>class</th>\n",
       "      <th>is_in_yandex</th>\n",
       "      <th>is_return</th>\n",
       "      <th>weight</th>\n",
       "      <th>...</th>\n",
       "      <th>total_qty_oper_login_0</th>\n",
       "      <th>total_qty_over_index_and_type</th>\n",
       "      <th>total_qty_over_index</th>\n",
       "      <th>is_wrong_sndr_name</th>\n",
       "      <th>is_wrong_rcpn_name</th>\n",
       "      <th>is_wrong_phone_number</th>\n",
       "      <th>is_wrong_address</th>\n",
       "      <th>label</th>\n",
       "      <th>is_wrong</th>\n",
       "      <th>total_mean</th>\n",
       "    </tr>\n",
       "  </thead>\n",
       "  <tbody>\n",
       "    <tr>\n",
       "      <th>0</th>\n",
       "      <td>6818780</td>\n",
       "      <td>26</td>\n",
       "      <td>17235</td>\n",
       "      <td>18</td>\n",
       "      <td>1</td>\n",
       "      <td>1</td>\n",
       "      <td>0.0</td>\n",
       "      <td>2</td>\n",
       "      <td>0</td>\n",
       "      <td>0.0</td>\n",
       "      <td>...</td>\n",
       "      <td>58950.0</td>\n",
       "      <td>779126.0</td>\n",
       "      <td>8290896.0</td>\n",
       "      <td>0</td>\n",
       "      <td>0</td>\n",
       "      <td>0</td>\n",
       "      <td>0</td>\n",
       "      <td>0</td>\n",
       "      <td>0</td>\n",
       "      <td>0.093974</td>\n",
       "    </tr>\n",
       "    <tr>\n",
       "      <th>1</th>\n",
       "      <td>9907176</td>\n",
       "      <td>20</td>\n",
       "      <td>23</td>\n",
       "      <td>4</td>\n",
       "      <td>1</td>\n",
       "      <td>1</td>\n",
       "      <td>0.0</td>\n",
       "      <td>1</td>\n",
       "      <td>0</td>\n",
       "      <td>0.0</td>\n",
       "      <td>...</td>\n",
       "      <td>83318932.0</td>\n",
       "      <td>132175590.0</td>\n",
       "      <td>136819803.0</td>\n",
       "      <td>0</td>\n",
       "      <td>0</td>\n",
       "      <td>0</td>\n",
       "      <td>0</td>\n",
       "      <td>0</td>\n",
       "      <td>0</td>\n",
       "      <td>0.966056</td>\n",
       "    </tr>\n",
       "    <tr>\n",
       "      <th>2</th>\n",
       "      <td>3304275</td>\n",
       "      <td>15</td>\n",
       "      <td>16331</td>\n",
       "      <td>19</td>\n",
       "      <td>1</td>\n",
       "      <td>1</td>\n",
       "      <td>0.0</td>\n",
       "      <td>2</td>\n",
       "      <td>0</td>\n",
       "      <td>0.0</td>\n",
       "      <td>...</td>\n",
       "      <td>3233068.0</td>\n",
       "      <td>6479360.0</td>\n",
       "      <td>52708071.0</td>\n",
       "      <td>0</td>\n",
       "      <td>1</td>\n",
       "      <td>0</td>\n",
       "      <td>0</td>\n",
       "      <td>0</td>\n",
       "      <td>1</td>\n",
       "      <td>0.122929</td>\n",
       "    </tr>\n",
       "    <tr>\n",
       "      <th>3</th>\n",
       "      <td>9020937</td>\n",
       "      <td>16</td>\n",
       "      <td>6325</td>\n",
       "      <td>19</td>\n",
       "      <td>1</td>\n",
       "      <td>1</td>\n",
       "      <td>0.0</td>\n",
       "      <td>2</td>\n",
       "      <td>0</td>\n",
       "      <td>0.0</td>\n",
       "      <td>...</td>\n",
       "      <td>653280.0</td>\n",
       "      <td>2714208.0</td>\n",
       "      <td>19562334.0</td>\n",
       "      <td>0</td>\n",
       "      <td>0</td>\n",
       "      <td>0</td>\n",
       "      <td>0</td>\n",
       "      <td>0</td>\n",
       "      <td>0</td>\n",
       "      <td>0.138747</td>\n",
       "    </tr>\n",
       "    <tr>\n",
       "      <th>4</th>\n",
       "      <td>3082311</td>\n",
       "      <td>17</td>\n",
       "      <td>17315</td>\n",
       "      <td>18</td>\n",
       "      <td>1</td>\n",
       "      <td>1</td>\n",
       "      <td>0.0</td>\n",
       "      <td>2</td>\n",
       "      <td>0</td>\n",
       "      <td>1.0</td>\n",
       "      <td>...</td>\n",
       "      <td>27911.0</td>\n",
       "      <td>344830.0</td>\n",
       "      <td>4719186.0</td>\n",
       "      <td>0</td>\n",
       "      <td>0</td>\n",
       "      <td>0</td>\n",
       "      <td>0</td>\n",
       "      <td>0</td>\n",
       "      <td>0</td>\n",
       "      <td>0.073070</td>\n",
       "    </tr>\n",
       "    <tr>\n",
       "      <th>...</th>\n",
       "      <td>...</td>\n",
       "      <td>...</td>\n",
       "      <td>...</td>\n",
       "      <td>...</td>\n",
       "      <td>...</td>\n",
       "      <td>...</td>\n",
       "      <td>...</td>\n",
       "      <td>...</td>\n",
       "      <td>...</td>\n",
       "      <td>...</td>\n",
       "      <td>...</td>\n",
       "      <td>...</td>\n",
       "      <td>...</td>\n",
       "      <td>...</td>\n",
       "      <td>...</td>\n",
       "      <td>...</td>\n",
       "      <td>...</td>\n",
       "      <td>...</td>\n",
       "      <td>...</td>\n",
       "      <td>...</td>\n",
       "      <td>...</td>\n",
       "    </tr>\n",
       "    <tr>\n",
       "      <th>5999995</th>\n",
       "      <td>9958614</td>\n",
       "      <td>19</td>\n",
       "      <td>23</td>\n",
       "      <td>4</td>\n",
       "      <td>1</td>\n",
       "      <td>1</td>\n",
       "      <td>0.0</td>\n",
       "      <td>1</td>\n",
       "      <td>0</td>\n",
       "      <td>0.0</td>\n",
       "      <td>...</td>\n",
       "      <td>116432632.0</td>\n",
       "      <td>180702765.0</td>\n",
       "      <td>188407812.0</td>\n",
       "      <td>0</td>\n",
       "      <td>0</td>\n",
       "      <td>1</td>\n",
       "      <td>0</td>\n",
       "      <td>0</td>\n",
       "      <td>1</td>\n",
       "      <td>0.959104</td>\n",
       "    </tr>\n",
       "    <tr>\n",
       "      <th>5999996</th>\n",
       "      <td>2234489</td>\n",
       "      <td>19</td>\n",
       "      <td>4697</td>\n",
       "      <td>19</td>\n",
       "      <td>1</td>\n",
       "      <td>1</td>\n",
       "      <td>0.0</td>\n",
       "      <td>2</td>\n",
       "      <td>0</td>\n",
       "      <td>0.0</td>\n",
       "      <td>...</td>\n",
       "      <td>144063.0</td>\n",
       "      <td>1911433.0</td>\n",
       "      <td>15582018.0</td>\n",
       "      <td>0</td>\n",
       "      <td>0</td>\n",
       "      <td>0</td>\n",
       "      <td>0</td>\n",
       "      <td>0</td>\n",
       "      <td>0</td>\n",
       "      <td>0.122669</td>\n",
       "    </tr>\n",
       "    <tr>\n",
       "      <th>5999997</th>\n",
       "      <td>4304572</td>\n",
       "      <td>24</td>\n",
       "      <td>18</td>\n",
       "      <td>19</td>\n",
       "      <td>3</td>\n",
       "      <td>1</td>\n",
       "      <td>0.0</td>\n",
       "      <td>1</td>\n",
       "      <td>0</td>\n",
       "      <td>2.0</td>\n",
       "      <td>...</td>\n",
       "      <td>10648.0</td>\n",
       "      <td>60624000.0</td>\n",
       "      <td>75592387.0</td>\n",
       "      <td>0</td>\n",
       "      <td>0</td>\n",
       "      <td>0</td>\n",
       "      <td>0</td>\n",
       "      <td>0</td>\n",
       "      <td>0</td>\n",
       "      <td>0.801986</td>\n",
       "    </tr>\n",
       "    <tr>\n",
       "      <th>5999998</th>\n",
       "      <td>6550634</td>\n",
       "      <td>15</td>\n",
       "      <td>6</td>\n",
       "      <td>19</td>\n",
       "      <td>3</td>\n",
       "      <td>1</td>\n",
       "      <td>0.0</td>\n",
       "      <td>1</td>\n",
       "      <td>0</td>\n",
       "      <td>0.0</td>\n",
       "      <td>...</td>\n",
       "      <td>4972424.0</td>\n",
       "      <td>20063762.0</td>\n",
       "      <td>39988530.0</td>\n",
       "      <td>0</td>\n",
       "      <td>1</td>\n",
       "      <td>0</td>\n",
       "      <td>0</td>\n",
       "      <td>0</td>\n",
       "      <td>1</td>\n",
       "      <td>0.501738</td>\n",
       "    </tr>\n",
       "    <tr>\n",
       "      <th>5999999</th>\n",
       "      <td>6423388</td>\n",
       "      <td>99</td>\n",
       "      <td>751</td>\n",
       "      <td>13</td>\n",
       "      <td>1</td>\n",
       "      <td>1</td>\n",
       "      <td>4.0</td>\n",
       "      <td>2</td>\n",
       "      <td>0</td>\n",
       "      <td>0.0</td>\n",
       "      <td>...</td>\n",
       "      <td>353.0</td>\n",
       "      <td>1894.0</td>\n",
       "      <td>17238.0</td>\n",
       "      <td>0</td>\n",
       "      <td>0</td>\n",
       "      <td>0</td>\n",
       "      <td>0</td>\n",
       "      <td>0</td>\n",
       "      <td>0</td>\n",
       "      <td>0.109874</td>\n",
       "    </tr>\n",
       "  </tbody>\n",
       "</table>\n",
       "<p>6000000 rows × 31 columns</p>\n",
       "</div>"
      ],
      "text/plain": [
       "              id  oper_type + oper_attr  index_oper  type  priority  \\\n",
       "0        6818780                     26       17235    18         1   \n",
       "1        9907176                     20          23     4         1   \n",
       "2        3304275                     15       16331    19         1   \n",
       "3        9020937                     16        6325    19         1   \n",
       "4        3082311                     17       17315    18         1   \n",
       "...          ...                    ...         ...   ...       ...   \n",
       "5999995  9958614                     19          23     4         1   \n",
       "5999996  2234489                     19        4697    19         1   \n",
       "5999997  4304572                     24          18    19         3   \n",
       "5999998  6550634                     15           6    19         3   \n",
       "5999999  6423388                     99         751    13         1   \n",
       "\n",
       "         is_privatecategory  class  is_in_yandex  is_return  weight  ...  \\\n",
       "0                         1    0.0             2          0     0.0  ...   \n",
       "1                         1    0.0             1          0     0.0  ...   \n",
       "2                         1    0.0             2          0     0.0  ...   \n",
       "3                         1    0.0             2          0     0.0  ...   \n",
       "4                         1    0.0             2          0     1.0  ...   \n",
       "...                     ...    ...           ...        ...     ...  ...   \n",
       "5999995                   1    0.0             1          0     0.0  ...   \n",
       "5999996                   1    0.0             2          0     0.0  ...   \n",
       "5999997                   1    0.0             1          0     2.0  ...   \n",
       "5999998                   1    0.0             1          0     0.0  ...   \n",
       "5999999                   1    4.0             2          0     0.0  ...   \n",
       "\n",
       "         total_qty_oper_login_0  total_qty_over_index_and_type  \\\n",
       "0                       58950.0                       779126.0   \n",
       "1                    83318932.0                    132175590.0   \n",
       "2                     3233068.0                      6479360.0   \n",
       "3                      653280.0                      2714208.0   \n",
       "4                       27911.0                       344830.0   \n",
       "...                         ...                            ...   \n",
       "5999995             116432632.0                    180702765.0   \n",
       "5999996                144063.0                      1911433.0   \n",
       "5999997                 10648.0                     60624000.0   \n",
       "5999998               4972424.0                     20063762.0   \n",
       "5999999                   353.0                         1894.0   \n",
       "\n",
       "         total_qty_over_index  is_wrong_sndr_name  is_wrong_rcpn_name  \\\n",
       "0                   8290896.0                   0                   0   \n",
       "1                 136819803.0                   0                   0   \n",
       "2                  52708071.0                   0                   1   \n",
       "3                  19562334.0                   0                   0   \n",
       "4                   4719186.0                   0                   0   \n",
       "...                       ...                 ...                 ...   \n",
       "5999995           188407812.0                   0                   0   \n",
       "5999996            15582018.0                   0                   0   \n",
       "5999997            75592387.0                   0                   0   \n",
       "5999998            39988530.0                   0                   1   \n",
       "5999999               17238.0                   0                   0   \n",
       "\n",
       "         is_wrong_phone_number  is_wrong_address  label  is_wrong  total_mean  \n",
       "0                            0                 0      0         0    0.093974  \n",
       "1                            0                 0      0         0    0.966056  \n",
       "2                            0                 0      0         1    0.122929  \n",
       "3                            0                 0      0         0    0.138747  \n",
       "4                            0                 0      0         0    0.073070  \n",
       "...                        ...               ...    ...       ...         ...  \n",
       "5999995                      1                 0      0         1    0.959104  \n",
       "5999996                      0                 0      0         0    0.122669  \n",
       "5999997                      0                 0      0         0    0.801986  \n",
       "5999998                      0                 0      0         1    0.501738  \n",
       "5999999                      0                 0      0         0    0.109874  \n",
       "\n",
       "[6000000 rows x 31 columns]"
      ]
     },
     "execution_count": 2,
     "metadata": {},
     "output_type": "execute_result"
    }
   ],
   "source": [
    "df = pd.read_csv(\"train_frame.csv\",low_memory=False)\n",
    "df"
   ]
  },
  {
   "cell_type": "markdown",
   "metadata": {
    "id": "V-7e0uZ0As9z"
   },
   "source": [
    "Обьединим список не нужных строк с списком строк типа object"
   ]
  },
  {
   "cell_type": "code",
   "execution_count": 3,
   "metadata": {
    "id": "PYDt4hVn_GB9"
   },
   "outputs": [],
   "source": [
    "col_obj = df.select_dtypes(include=['object']).columns.values\n",
    "col_obj = list(set(col_obj) ^ set([\"id\", \"label\"]))"
   ]
  },
  {
   "cell_type": "code",
   "execution_count": 4,
   "metadata": {
    "colab": {
     "base_uri": "https://localhost:8080/"
    },
    "id": "lcpuRWOTAoGJ",
    "outputId": "5b4db5c0-e6f8-4208-b981-aafc9c5c23c5"
   },
   "outputs": [
    {
     "data": {
      "text/plain": [
       "['id', 'label']"
      ]
     },
     "execution_count": 4,
     "metadata": {},
     "output_type": "execute_result"
    }
   ],
   "source": [
    "col_obj"
   ]
  },
  {
   "cell_type": "code",
   "execution_count": 5,
   "metadata": {
    "id": "mkCL9b-8hmZ1"
   },
   "outputs": [],
   "source": [
    "X = df.drop(col_obj, axis = 1)\n",
    "y = df[\"label\"]"
   ]
  },
  {
   "cell_type": "code",
   "execution_count": 6,
   "metadata": {
    "id": "NfIOX9Lbik_i"
   },
   "outputs": [],
   "source": [
    "X_train, X_test, y_train, y_test = train_test_split(X, y, test_size=0.15, stratify=y)"
   ]
  },
  {
   "cell_type": "code",
   "execution_count": 7,
   "metadata": {},
   "outputs": [],
   "source": [
    "sm = SMOTE(random_state=42)\n",
    "\n",
    "X_train, y_train = sm.fit_resample(X_train, y_train)"
   ]
  },
  {
   "cell_type": "code",
   "execution_count": 8,
   "metadata": {},
   "outputs": [
    {
     "data": {
      "text/plain": [
       "(9909334, 29)"
      ]
     },
     "execution_count": 8,
     "metadata": {},
     "output_type": "execute_result"
    }
   ],
   "source": [
    "X_train.shape"
   ]
  },
  {
   "cell_type": "markdown",
   "metadata": {
    "id": "60NotS9ehbO5"
   },
   "source": [
    "## Обучение модели"
   ]
  },
  {
   "cell_type": "code",
   "execution_count": 9,
   "metadata": {},
   "outputs": [],
   "source": [
    "scaler = StandardScaler()\n",
    "#scaler.fit(X)\n",
    "# logistic = OneVsRestClassifier(RandomForestClassifier(max_depth=22,n_jobs=-1))\n",
    "#logistic=GaussianNB()\n",
    "#pipe = Pipeline([('normalizer', scaler), ('classifier', logistic)])\n",
    "#pipe.fit(X_train, y_train)"
   ]
  },
  {
   "cell_type": "markdown",
   "metadata": {},
   "source": [
    "clf1=HistGradientBoostingClassifier(learning_rate=0.1, max_depth= 8, min_samples_leaf=100)\n",
    "clf2=RandomForestClassifier(max_depth=15,n_jobs=9)\n",
    "eclf1 = VotingClassifier([('gb', clf2),('rf', clf2)], voting='soft',weights=[1,1.5])\n",
    "pipe = Pipeline([('normalizer', scaler), ('classifier', eclf1)])\n",
    "pipe.fit(X_train, y_train)"
   ]
  },
  {
   "cell_type": "markdown",
   "metadata": {},
   "source": [
    "pool_train = cb.Pool(X, y)\n",
    "params = {                  # 'task_type':'GPU',\n",
    "                            'iterations':1200,\n",
    "                            'depth':8,\n",
    "                            'random_state':2,\n",
    "                            'learning_rate':0.01,\n",
    "                            'eval_metric':'Recall',\n",
    "                            'loss_function':'MultiCrossEntropy'}\n",
    "clf_with_aux = cb.CatBoostClassifier(**params)\n",
    "clf_with_aux.fit(pool_train)\n"
   ]
  },
  {
   "cell_type": "markdown",
   "metadata": {},
   "source": [
    "predcat = clf_with_aux.predict_proba(X_test)\n",
    "voting = pipe.predict_proba(X_test)"
   ]
  },
  {
   "cell_type": "markdown",
   "metadata": {},
   "source": [
    "\n",
    "y_pred = ((voting + predcat) / 2).argmax(axis=1)\n",
    "\n",
    "\n",
    "print(classification_report(y_test, y_pred))"
   ]
  },
  {
   "cell_type": "markdown",
   "metadata": {},
   "source": [
    "\n",
    "\n",
    "parametrs = {\n",
    "              'max_depth': range (1,35),\n",
    "            }\n",
    "grid = GridSearchCV(RandomForestClassifier(), parametrs, scoring='roc_auc', cv=2,n_jobs=9) \n",
    "grid.fit(X_test, y_test) \n",
    "grid.best_params_\n",
    "\n"
   ]
  },
  {
   "cell_type": "markdown",
   "metadata": {},
   "source": [
    "pkl_filename = \"model.pkl\"\n",
    "with open(pkl_filename, 'wb') as file:\n",
    "    pickle.dump(pipe, file)\n",
    "\n",
    "with open(pkl_filename, 'rb') as file:\n",
    "    model = pickle.load(file)"
   ]
  },
  {
   "cell_type": "markdown",
   "metadata": {},
   "source": [
    "nb_classifier = GaussianNB()\n",
    "\n",
    "params_NB = {'var_smoothing': np.logspace(0,-9, num=100)}\n",
    "gs_NB = GridSearchCV(estimator=nb_classifier, \n",
    "                 param_grid=params_NB, \n",
    "                 cv=2,   # use any cross validation technique \n",
    "                 verbose=1, \n",
    "                 scoring='roc_auc') \n",
    "gs_NB.fit(X_train, y_train)\n",
    "\n",
    "gs_NB.best_params_\n"
   ]
  },
  {
   "cell_type": "markdown",
   "metadata": {},
   "source": [
    "gb_grid_params = {'learning_rate': [0.1, 0.05, 0.02, 0.01],\n",
    "              'max_depth': [4, 6, 8],\n",
    "              'min_samples_leaf': [20, 50,100,150],\n",
    "              #'max_features': [1.0, 0.3, 0.1] \n",
    "              }\n",
    "print(gb_grid_params)\n",
    "\n",
    "gb_gs = HistGradientBoostingClassifier()\n",
    "\n",
    "clf = GridSearchCV(gb_gs,\n",
    "                               gb_grid_params,\n",
    "                               cv=2,\n",
    "                               scoring='roc_auc',\n",
    "                               verbose = 3, \n",
    "                               n_jobs=2);\n",
    "clf.fit(X_train, y_train);\n",
    "clf.best_params_"
   ]
  },
  {
   "cell_type": "markdown",
   "metadata": {},
   "source": [
    "# Нейронка"
   ]
  },
  {
   "cell_type": "code",
   "execution_count": 16,
   "metadata": {},
   "outputs": [
    {
     "name": "stdout",
     "output_type": "stream",
     "text": [
      "Epoch 1/2\n"
     ]
    },
    {
     "name": "stderr",
     "output_type": "stream",
     "text": [
      "2022-11-09 22:24:24.646438: W tensorflow/core/framework/cpu_allocator_impl.cc:82] Allocation of 2298965488 exceeds 10% of free system memory.\n"
     ]
    },
    {
     "name": "stdout",
     "output_type": "stream",
     "text": [
      "19355/19355 [==============================] - 55s 3ms/step - loss: 0.4554 - recall_1: 0.9312 - val_loss: 0.5374 - val_recall_1: 0.9389\n",
      "Epoch 2/2\n",
      "19355/19355 [==============================] - 54s 3ms/step - loss: 0.4539 - recall_1: 0.9355 - val_loss: 0.5381 - val_recall_1: 0.9437\n"
     ]
    }
   ],
   "source": [
    "from keras import models\n",
    "from keras import layers\n",
    "import tensorflow as tf \n",
    "def build_model():\n",
    "    model = models.Sequential()\n",
    "    model.add(layers.Dense(290,activation='sigmoid',input_shape=(29,)))\n",
    "    model.add(layers.Dense(15,activation='relu'))\n",
    "    model.add(layers.Dense(1,activation='sigmoid'))\n",
    "    model.compile(optimizer='rmsprop',# Вы также можете указать параметры для оптимизатора через optimizer = optimizer.RMSprop (lr = 0.001)\n",
    "                  loss='binary_crossentropy', # Эквивалент потерь = loss.binary_crossentropy\n",
    "                  metrics=[tf.keras.metrics.Recall()]) # Эквивалентно метрике = [metircs.binary_accuracy]\n",
    "    return model\n",
    "model = build_model()\n",
    "\n",
    "\n",
    "history = model.fit(X_train, y_train,\n",
    "                    epochs=2, # Итерировать 20 раз по полному набору данных\n",
    "                    batch_size=512, # Размер каждой партии 512\n",
    "                    validation_data=(X_test,y_test))"
   ]
  },
  {
   "cell_type": "code",
   "execution_count": 17,
   "metadata": {},
   "outputs": [
    {
     "name": "stdout",
     "output_type": "stream",
     "text": [
      "28125/28125 [==============================] - 23s 828us/step\n",
      "нейронка               precision    recall  f1-score   support\n",
      "\n",
      "           0       1.00      0.65      0.79    874353\n",
      "           1       0.07      0.94      0.14     25647\n",
      "\n",
      "    accuracy                           0.66    900000\n",
      "   macro avg       0.54      0.80      0.46    900000\n",
      "weighted avg       0.97      0.66      0.77    900000\n",
      "\n"
     ]
    }
   ],
   "source": [
    "predictions = model.predict(X_test)\n",
    "pred=[]\n",
    "for i in predictions:\n",
    "    pred.append(round(float(i)))\n",
    "print('нейронка',classification_report(y_test, pred))"
   ]
  },
  {
   "cell_type": "markdown",
   "metadata": {
    "id": "DrF2LeJIBNYN"
   },
   "source": [
    "## Оценка точности"
   ]
  },
  {
   "cell_type": "code",
   "execution_count": 18,
   "metadata": {
    "id": "5Ph7vcoxBNYO"
   },
   "outputs": [],
   "source": [
    "pred =pipe.predict(X_test)"
   ]
  },
  {
   "cell_type": "code",
   "execution_count": 19,
   "metadata": {
    "id": "wfAZwwLXBNYO"
   },
   "outputs": [],
   "source": [
    "from sklearn.metrics import recall_score\n",
    "\n",
    "score = recall_score(y_test, pred, average = \"macro\" )"
   ]
  },
  {
   "cell_type": "code",
   "execution_count": 20,
   "metadata": {
    "colab": {
     "base_uri": "https://localhost:8080/"
    },
    "id": "sX6yHTGUBNYO",
    "outputId": "ab784c04-2e8c-4595-a968-d22f9923b4bd"
   },
   "outputs": [
    {
     "name": "stdout",
     "output_type": "stream",
     "text": [
      "Recall 0.965951949644467\n"
     ]
    }
   ],
   "source": [
    "print(\"Recall\", score)"
   ]
  },
  {
   "cell_type": "code",
   "execution_count": 21,
   "metadata": {},
   "outputs": [
    {
     "data": {
      "text/plain": [
       "0.9880068054796481"
      ]
     },
     "execution_count": 21,
     "metadata": {},
     "output_type": "execute_result"
    }
   ],
   "source": [
    "from sklearn.metrics import roc_auc_score\n",
    "roc_auc_score(y_test,  pipe.predict_proba(X_test)[:, 1])"
   ]
  },
  {
   "cell_type": "code",
   "execution_count": 22,
   "metadata": {
    "scrolled": true
   },
   "outputs": [
    {
     "name": "stdout",
     "output_type": "stream",
     "text": [
      "              precision    recall  f1-score   support\n",
      "\n",
      "           0       1.00      0.96      0.98    874353\n",
      "           1       0.44      0.97      0.61     25647\n",
      "\n",
      "    accuracy                           0.96    900000\n",
      "   macro avg       0.72      0.97      0.79    900000\n",
      "weighted avg       0.98      0.96      0.97    900000\n",
      "\n"
     ]
    }
   ],
   "source": [
    "print(classification_report(y_test, pred))"
   ]
  },
  {
   "cell_type": "code",
   "execution_count": 23,
   "metadata": {},
   "outputs": [
    {
     "name": "stdout",
     "output_type": "stream",
     "text": [
      "Требуемая величина 0.9858013198961301\n"
     ]
    }
   ],
   "source": [
    "print('Требуемая величина', 0.1*score+0.9*roc_auc_score(y_test,  pipe.predict_proba(X_test)[:, 1]))"
   ]
  },
  {
   "cell_type": "markdown",
   "metadata": {},
   "source": [
    "# Предсказание "
   ]
  },
  {
   "cell_type": "code",
   "execution_count": 24,
   "metadata": {},
   "outputs": [],
   "source": [
    "pred_data=pd.read_csv('test_dataset_test.csv',low_memory=False)\n"
   ]
  },
  {
   "cell_type": "code",
   "execution_count": 25,
   "metadata": {},
   "outputs": [],
   "source": [
    "df=pred_data"
   ]
  },
  {
   "cell_type": "code",
   "execution_count": 26,
   "metadata": {},
   "outputs": [],
   "source": [
    "df[\"priority\"] = pd.Categorical(df[\"priority\"])\n",
    "df[\"priority\"].astype('category').cat.codes\n",
    "df[\"priority\"] = df[\"priority\"].cat.codes\n",
    "df[\"is_in_yandex\"] = pd.Categorical(df[\"is_in_yandex\"])\n",
    "df[\"is_in_yandex\"].astype('category').cat.codes\n",
    "df[\"is_in_yandex\"] = df[\"is_in_yandex\"].cat.codes\n",
    "df[\"is_return\"] = pd.Categorical(df[\"is_return\"])\n",
    "df[\"is_return\"].astype('category').cat.codes\n",
    "df[\"is_return\"] = df[\"is_return\"].cat.codes\n",
    "df[\"oper_type + oper_attr\"] = pd.Categorical(df[\"oper_type + oper_attr\"])\n",
    "df[\"oper_type + oper_attr\"].astype('category').cat.codes\n",
    "df[\"oper_type + oper_attr\"] = df[\"oper_type + oper_attr\"].cat.codes\n",
    "df[\"index_oper\"] = pd.Categorical(df[\"index_oper\"])\n",
    "df[\"index_oper\"].astype('category').cat.codes\n",
    "df[\"index_oper\"] = df[\"index_oper\"].cat.codes\n",
    "df[\"type\"] = pd.Categorical(df[\"type\"])\n",
    "df[\"type\"].astype('category').cat.codes\n",
    "df[\"type\"] = df[\"type\"].cat.codes\n",
    "df[\"is_privatecategory\"] = pd.Categorical(df[\"is_privatecategory\"])\n",
    "df[\"is_privatecategory\"].astype('category').cat.codes\n",
    "df[\"is_privatecategory\"] = df[\"is_privatecategory\"].cat.codes\n",
    "df[\"name_mfi\"] = pd.Categorical(df[\"name_mfi\"])\n",
    "df[\"name_mfi\"].astype('category').cat.codes\n",
    "df[\"name_mfi\"] = df[\"name_mfi\"].cat.codes\n",
    "df[\"weight\"] = round(df[\"weight\"]/1000)\n",
    "df['is_wrong']=df['is_wrong_sndr_name']+df['is_wrong_rcpn_name']+df['is_wrong_phone_number']+df['is_wrong_address']\n",
    "df['total_mean']=df['total_qty_over_index_and_type']/df['total_qty_over_index']"
   ]
  },
  {
   "cell_type": "code",
   "execution_count": 27,
   "metadata": {},
   "outputs": [],
   "source": [
    "df = df.fillna(0)\n"
   ]
  },
  {
   "cell_type": "code",
   "execution_count": 28,
   "metadata": {},
   "outputs": [],
   "source": [
    "df=df.drop(['id'], axis = 1)"
   ]
  },
  {
   "cell_type": "code",
   "execution_count": 29,
   "metadata": {},
   "outputs": [],
   "source": [
    "pred_data['label']=pipe.predict(df)"
   ]
  },
  {
   "cell_type": "code",
   "execution_count": 30,
   "metadata": {},
   "outputs": [],
   "source": [
    "pred_data[['id','label']].to_csv('bestmodel.csv', index=False)"
   ]
  },
  {
   "cell_type": "markdown",
   "metadata": {},
   "source": [
    "# Нейро "
   ]
  },
  {
   "cell_type": "code",
   "execution_count": 31,
   "metadata": {},
   "outputs": [
    {
     "name": "stdout",
     "output_type": "stream",
     "text": [
      "125000/125000 [==============================] - 106s 845us/step\n"
     ]
    }
   ],
   "source": [
    "predictions = model.predict(df)\n",
    "pred=[]\n",
    "for i in predictions:\n",
    "    pred.append(round(float(i)))\n",
    "pred_data['label']=pred\n",
    "pred_data[['id','label']].to_csv('bestmodelnero.csv', index=False)"
   ]
  },
  {
   "cell_type": "code",
   "execution_count": null,
   "metadata": {},
   "outputs": [],
   "source": []
  },
  {
   "cell_type": "code",
   "execution_count": null,
   "metadata": {},
   "outputs": [],
   "source": []
  },
  {
   "cell_type": "code",
   "execution_count": null,
   "metadata": {},
   "outputs": [],
   "source": []
  },
  {
   "cell_type": "code",
   "execution_count": null,
   "metadata": {},
   "outputs": [],
   "source": []
  },
  {
   "cell_type": "markdown",
   "metadata": {},
   "source": []
  }
 ],
 "metadata": {
  "colab": {
   "provenance": []
  },
  "kernelspec": {
   "display_name": "Python 3 (ipykernel)",
   "language": "python",
   "name": "python3"
  },
  "language_info": {
   "codemirror_mode": {
    "name": "ipython",
    "version": 3
   },
   "file_extension": ".py",
   "mimetype": "text/x-python",
   "name": "python",
   "nbconvert_exporter": "python",
   "pygments_lexer": "ipython3",
   "version": "3.8.10"
  }
 },
 "nbformat": 4,
 "nbformat_minor": 1
}
