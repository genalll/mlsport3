{
 "cells": [
  {
   "cell_type": "markdown",
   "metadata": {
    "id": "fnE1_J-4dhSR"
   },
   "source": [
    "## Загрузим нужные библиотеки"
   ]
  },
  {
   "cell_type": "code",
   "execution_count": 1,
   "metadata": {
    "id": "uaKzqUxsdjDa"
   },
   "outputs": [],
   "source": [
    "import pandas as pd\n",
    "import seaborn as sns\n",
    "import matplotlib.pyplot as plt\n",
    "import sklearn as sklearn"
   ]
  },
  {
   "cell_type": "code",
   "execution_count": 2,
   "metadata": {},
   "outputs": [
    {
     "data": {
      "text/html": [
       "<div>\n",
       "<style scoped>\n",
       "    .dataframe tbody tr th:only-of-type {\n",
       "        vertical-align: middle;\n",
       "    }\n",
       "\n",
       "    .dataframe tbody tr th {\n",
       "        vertical-align: top;\n",
       "    }\n",
       "\n",
       "    .dataframe thead th {\n",
       "        text-align: right;\n",
       "    }\n",
       "</style>\n",
       "<table border=\"1\" class=\"dataframe\">\n",
       "  <thead>\n",
       "    <tr style=\"text-align: right;\">\n",
       "      <th></th>\n",
       "      <th>id</th>\n",
       "      <th>oper_type + oper_attr</th>\n",
       "      <th>index_oper</th>\n",
       "      <th>type</th>\n",
       "      <th>priority</th>\n",
       "      <th>is_privatecategory</th>\n",
       "      <th>class</th>\n",
       "      <th>is_in_yandex</th>\n",
       "      <th>is_return</th>\n",
       "      <th>weight</th>\n",
       "      <th>...</th>\n",
       "      <th>percent_loss</th>\n",
       "      <th>area_fail</th>\n",
       "      <th>weightkg</th>\n",
       "      <th>is_wrong</th>\n",
       "      <th>total_mean</th>\n",
       "      <th>name_mfi_fail</th>\n",
       "      <th>mailtype_fail</th>\n",
       "      <th>oper_type_fail</th>\n",
       "      <th>type_fail</th>\n",
       "      <th>priority_fail</th>\n",
       "    </tr>\n",
       "  </thead>\n",
       "  <tbody>\n",
       "    <tr>\n",
       "      <th>0</th>\n",
       "      <td>6818780</td>\n",
       "      <td>26</td>\n",
       "      <td>17235</td>\n",
       "      <td>18</td>\n",
       "      <td>1</td>\n",
       "      <td>1</td>\n",
       "      <td>0.0</td>\n",
       "      <td>2</td>\n",
       "      <td>0</td>\n",
       "      <td>87.0</td>\n",
       "      <td>...</td>\n",
       "      <td>3.004886e-09</td>\n",
       "      <td>0</td>\n",
       "      <td>0.0</td>\n",
       "      <td>0</td>\n",
       "      <td>0.093974</td>\n",
       "      <td>0</td>\n",
       "      <td>0</td>\n",
       "      <td>0</td>\n",
       "      <td>0</td>\n",
       "      <td>0</td>\n",
       "    </tr>\n",
       "    <tr>\n",
       "      <th>1</th>\n",
       "      <td>9907176</td>\n",
       "      <td>20</td>\n",
       "      <td>23</td>\n",
       "      <td>4</td>\n",
       "      <td>1</td>\n",
       "      <td>1</td>\n",
       "      <td>0.0</td>\n",
       "      <td>1</td>\n",
       "      <td>0</td>\n",
       "      <td>107.0</td>\n",
       "      <td>...</td>\n",
       "      <td>3.138428e-10</td>\n",
       "      <td>0</td>\n",
       "      <td>0.0</td>\n",
       "      <td>0</td>\n",
       "      <td>0.966056</td>\n",
       "      <td>0</td>\n",
       "      <td>0</td>\n",
       "      <td>0</td>\n",
       "      <td>0</td>\n",
       "      <td>0</td>\n",
       "    </tr>\n",
       "    <tr>\n",
       "      <th>2</th>\n",
       "      <td>3304275</td>\n",
       "      <td>15</td>\n",
       "      <td>16331</td>\n",
       "      <td>19</td>\n",
       "      <td>1</td>\n",
       "      <td>1</td>\n",
       "      <td>0.0</td>\n",
       "      <td>2</td>\n",
       "      <td>0</td>\n",
       "      <td>50.0</td>\n",
       "      <td>...</td>\n",
       "      <td>1.880769e-10</td>\n",
       "      <td>0</td>\n",
       "      <td>0.0</td>\n",
       "      <td>1</td>\n",
       "      <td>0.122929</td>\n",
       "      <td>0</td>\n",
       "      <td>0</td>\n",
       "      <td>0</td>\n",
       "      <td>0</td>\n",
       "      <td>0</td>\n",
       "    </tr>\n",
       "    <tr>\n",
       "      <th>3</th>\n",
       "      <td>9020937</td>\n",
       "      <td>16</td>\n",
       "      <td>6325</td>\n",
       "      <td>19</td>\n",
       "      <td>1</td>\n",
       "      <td>1</td>\n",
       "      <td>0.0</td>\n",
       "      <td>2</td>\n",
       "      <td>0</td>\n",
       "      <td>416.0</td>\n",
       "      <td>...</td>\n",
       "      <td>5.680579e-10</td>\n",
       "      <td>0</td>\n",
       "      <td>0.0</td>\n",
       "      <td>0</td>\n",
       "      <td>0.138747</td>\n",
       "      <td>0</td>\n",
       "      <td>0</td>\n",
       "      <td>0</td>\n",
       "      <td>0</td>\n",
       "      <td>0</td>\n",
       "    </tr>\n",
       "    <tr>\n",
       "      <th>4</th>\n",
       "      <td>3082311</td>\n",
       "      <td>17</td>\n",
       "      <td>17315</td>\n",
       "      <td>18</td>\n",
       "      <td>1</td>\n",
       "      <td>1</td>\n",
       "      <td>0.0</td>\n",
       "      <td>2</td>\n",
       "      <td>0</td>\n",
       "      <td>795.0</td>\n",
       "      <td>...</td>\n",
       "      <td>6.154645e-09</td>\n",
       "      <td>0</td>\n",
       "      <td>1.0</td>\n",
       "      <td>0</td>\n",
       "      <td>0.073070</td>\n",
       "      <td>0</td>\n",
       "      <td>0</td>\n",
       "      <td>0</td>\n",
       "      <td>0</td>\n",
       "      <td>0</td>\n",
       "    </tr>\n",
       "    <tr>\n",
       "      <th>...</th>\n",
       "      <td>...</td>\n",
       "      <td>...</td>\n",
       "      <td>...</td>\n",
       "      <td>...</td>\n",
       "      <td>...</td>\n",
       "      <td>...</td>\n",
       "      <td>...</td>\n",
       "      <td>...</td>\n",
       "      <td>...</td>\n",
       "      <td>...</td>\n",
       "      <td>...</td>\n",
       "      <td>...</td>\n",
       "      <td>...</td>\n",
       "      <td>...</td>\n",
       "      <td>...</td>\n",
       "      <td>...</td>\n",
       "      <td>...</td>\n",
       "      <td>...</td>\n",
       "      <td>...</td>\n",
       "      <td>...</td>\n",
       "      <td>...</td>\n",
       "    </tr>\n",
       "    <tr>\n",
       "      <th>5999995</th>\n",
       "      <td>9958614</td>\n",
       "      <td>19</td>\n",
       "      <td>23</td>\n",
       "      <td>4</td>\n",
       "      <td>1</td>\n",
       "      <td>1</td>\n",
       "      <td>0.0</td>\n",
       "      <td>1</td>\n",
       "      <td>0</td>\n",
       "      <td>25.0</td>\n",
       "      <td>...</td>\n",
       "      <td>3.138428e-10</td>\n",
       "      <td>0</td>\n",
       "      <td>0.0</td>\n",
       "      <td>1</td>\n",
       "      <td>0.959104</td>\n",
       "      <td>0</td>\n",
       "      <td>0</td>\n",
       "      <td>0</td>\n",
       "      <td>0</td>\n",
       "      <td>0</td>\n",
       "    </tr>\n",
       "    <tr>\n",
       "      <th>5999996</th>\n",
       "      <td>2234489</td>\n",
       "      <td>19</td>\n",
       "      <td>4697</td>\n",
       "      <td>19</td>\n",
       "      <td>1</td>\n",
       "      <td>1</td>\n",
       "      <td>0.0</td>\n",
       "      <td>2</td>\n",
       "      <td>0</td>\n",
       "      <td>83.0</td>\n",
       "      <td>...</td>\n",
       "      <td>5.329992e-10</td>\n",
       "      <td>0</td>\n",
       "      <td>0.0</td>\n",
       "      <td>0</td>\n",
       "      <td>0.122669</td>\n",
       "      <td>0</td>\n",
       "      <td>0</td>\n",
       "      <td>0</td>\n",
       "      <td>0</td>\n",
       "      <td>0</td>\n",
       "    </tr>\n",
       "    <tr>\n",
       "      <th>5999997</th>\n",
       "      <td>4304572</td>\n",
       "      <td>24</td>\n",
       "      <td>18</td>\n",
       "      <td>19</td>\n",
       "      <td>3</td>\n",
       "      <td>1</td>\n",
       "      <td>0.0</td>\n",
       "      <td>1</td>\n",
       "      <td>0</td>\n",
       "      <td>1700.0</td>\n",
       "      <td>...</td>\n",
       "      <td>3.138428e-10</td>\n",
       "      <td>0</td>\n",
       "      <td>2.0</td>\n",
       "      <td>0</td>\n",
       "      <td>0.801986</td>\n",
       "      <td>0</td>\n",
       "      <td>0</td>\n",
       "      <td>0</td>\n",
       "      <td>0</td>\n",
       "      <td>0</td>\n",
       "    </tr>\n",
       "    <tr>\n",
       "      <th>5999998</th>\n",
       "      <td>6550634</td>\n",
       "      <td>15</td>\n",
       "      <td>6</td>\n",
       "      <td>19</td>\n",
       "      <td>3</td>\n",
       "      <td>1</td>\n",
       "      <td>0.0</td>\n",
       "      <td>1</td>\n",
       "      <td>0</td>\n",
       "      <td>269.0</td>\n",
       "      <td>...</td>\n",
       "      <td>3.138428e-10</td>\n",
       "      <td>0</td>\n",
       "      <td>0.0</td>\n",
       "      <td>1</td>\n",
       "      <td>0.501738</td>\n",
       "      <td>0</td>\n",
       "      <td>0</td>\n",
       "      <td>0</td>\n",
       "      <td>0</td>\n",
       "      <td>0</td>\n",
       "    </tr>\n",
       "    <tr>\n",
       "      <th>5999999</th>\n",
       "      <td>6423388</td>\n",
       "      <td>99</td>\n",
       "      <td>751</td>\n",
       "      <td>13</td>\n",
       "      <td>1</td>\n",
       "      <td>1</td>\n",
       "      <td>4.0</td>\n",
       "      <td>2</td>\n",
       "      <td>0</td>\n",
       "      <td>41.0</td>\n",
       "      <td>...</td>\n",
       "      <td>4.177180e-11</td>\n",
       "      <td>0</td>\n",
       "      <td>0.0</td>\n",
       "      <td>0</td>\n",
       "      <td>0.109874</td>\n",
       "      <td>0</td>\n",
       "      <td>0</td>\n",
       "      <td>0</td>\n",
       "      <td>0</td>\n",
       "      <td>0</td>\n",
       "    </tr>\n",
       "  </tbody>\n",
       "</table>\n",
       "<p>6000000 rows × 42 columns</p>\n",
       "</div>"
      ],
      "text/plain": [
       "              id  oper_type + oper_attr  index_oper  type  priority  \\\n",
       "0        6818780                     26       17235    18         1   \n",
       "1        9907176                     20          23     4         1   \n",
       "2        3304275                     15       16331    19         1   \n",
       "3        9020937                     16        6325    19         1   \n",
       "4        3082311                     17       17315    18         1   \n",
       "...          ...                    ...         ...   ...       ...   \n",
       "5999995  9958614                     19          23     4         1   \n",
       "5999996  2234489                     19        4697    19         1   \n",
       "5999997  4304572                     24          18    19         3   \n",
       "5999998  6550634                     15           6    19         3   \n",
       "5999999  6423388                     99         751    13         1   \n",
       "\n",
       "         is_privatecategory  class  is_in_yandex  is_return  weight  ...  \\\n",
       "0                         1    0.0             2          0    87.0  ...   \n",
       "1                         1    0.0             1          0   107.0  ...   \n",
       "2                         1    0.0             2          0    50.0  ...   \n",
       "3                         1    0.0             2          0   416.0  ...   \n",
       "4                         1    0.0             2          0   795.0  ...   \n",
       "...                     ...    ...           ...        ...     ...  ...   \n",
       "5999995                   1    0.0             1          0    25.0  ...   \n",
       "5999996                   1    0.0             2          0    83.0  ...   \n",
       "5999997                   1    0.0             1          0  1700.0  ...   \n",
       "5999998                   1    0.0             1          0   269.0  ...   \n",
       "5999999                   1    4.0             2          0    41.0  ...   \n",
       "\n",
       "         percent_loss  area_fail  weightkg  is_wrong  total_mean  \\\n",
       "0        3.004886e-09          0       0.0         0    0.093974   \n",
       "1        3.138428e-10          0       0.0         0    0.966056   \n",
       "2        1.880769e-10          0       0.0         1    0.122929   \n",
       "3        5.680579e-10          0       0.0         0    0.138747   \n",
       "4        6.154645e-09          0       1.0         0    0.073070   \n",
       "...               ...        ...       ...       ...         ...   \n",
       "5999995  3.138428e-10          0       0.0         1    0.959104   \n",
       "5999996  5.329992e-10          0       0.0         0    0.122669   \n",
       "5999997  3.138428e-10          0       2.0         0    0.801986   \n",
       "5999998  3.138428e-10          0       0.0         1    0.501738   \n",
       "5999999  4.177180e-11          0       0.0         0    0.109874   \n",
       "\n",
       "         name_mfi_fail  mailtype_fail  oper_type_fail  type_fail  \\\n",
       "0                    0              0               0          0   \n",
       "1                    0              0               0          0   \n",
       "2                    0              0               0          0   \n",
       "3                    0              0               0          0   \n",
       "4                    0              0               0          0   \n",
       "...                ...            ...             ...        ...   \n",
       "5999995              0              0               0          0   \n",
       "5999996              0              0               0          0   \n",
       "5999997              0              0               0          0   \n",
       "5999998              0              0               0          0   \n",
       "5999999              0              0               0          0   \n",
       "\n",
       "         priority_fail  \n",
       "0                    0  \n",
       "1                    0  \n",
       "2                    0  \n",
       "3                    0  \n",
       "4                    0  \n",
       "...                ...  \n",
       "5999995              0  \n",
       "5999996              0  \n",
       "5999997              0  \n",
       "5999998              0  \n",
       "5999999              0  \n",
       "\n",
       "[6000000 rows x 42 columns]"
      ]
     },
     "execution_count": 2,
     "metadata": {},
     "output_type": "execute_result"
    }
   ],
   "source": [
    "df = pd.read_csv(\"train_frame.csv\",low_memory=False)\n",
    "df"
   ]
  },
  {
   "cell_type": "code",
   "execution_count": 3,
   "metadata": {},
   "outputs": [
    {
     "data": {
      "image/png": "[encoded data removed]",
      "text/plain": [
       "<Figure size 360x360 with 1 Axes>"
      ]
     },
     "metadata": {
      "needs_background": "light"
     },
     "output_type": "display_data"
    }
   ],
   "source": [
    "plt.figure(figsize=(5,5))\n",
    "sns.scatterplot(data=df.sample(1000000), x=\"oper_type + oper_attr\", y=\"label\",hue='label',palette=\"deep\",size=\"label\")\n",
    "plt.show()"
   ]
  },
  {
   "cell_type": "code",
   "execution_count": 4,
   "metadata": {},
   "outputs": [
    {
     "data": {
      "text/plain": [
       "oper_type + oper_attr\n",
       "4     111489\n",
       "69     47908\n",
       "73     10352\n",
       "27       506\n",
       "17       345\n",
       "98       296\n",
       "81        57\n",
       "26        16\n",
       "74         7\n",
       "72         1\n",
       "82         1\n",
       "71         1\n",
       "76         1\n",
       "78         0\n",
       "77         0\n",
       "75         0\n",
       "79         0\n",
       "80         0\n",
       "0          0\n",
       "68         0\n",
       "67         0\n",
       "66         0\n",
       "65         0\n",
       "64         0\n",
       "63         0\n",
       "62         0\n",
       "61         0\n",
       "60         0\n",
       "59         0\n",
       "70         0\n",
       "Name: label, dtype: int64"
      ]
     },
     "execution_count": 4,
     "metadata": {},
     "output_type": "execute_result"
    }
   ],
   "source": [
    "df.groupby('oper_type + oper_attr')['label'].sum().sort_values(ascending = False).head(30)\n"
   ]
  },
  {
   "cell_type": "code",
   "execution_count": 5,
   "metadata": {},
   "outputs": [
    {
     "data": {
      "image/png": "[encoded data removed]",
      "text/plain": [
       "<Figure size 720x720 with 1 Axes>"
      ]
     },
     "metadata": {
      "needs_background": "light"
     },
     "output_type": "display_data"
    }
   ],
   "source": [
    "plt.figure(figsize=(5,5))\n",
    "sns.scatterplot(data=df.sample(1000000), x=\"type\", y=\"label\",hue='label',palette=\"deep\",size=\"label\")\n",
    "plt.show()"
   ]
  },
  {
   "cell_type": "code",
   "execution_count": 6,
   "metadata": {},
   "outputs": [
    {
     "data": {
      "text/plain": [
       "type\n",
       "4     109340\n",
       "3      48858\n",
       "13      9132\n",
       "19      2005\n",
       "18       906\n",
       "1        324\n",
       "11       137\n",
       "10       108\n",
       "12        63\n",
       "0         63\n",
       "7         33\n",
       "14         4\n",
       "6          3\n",
       "16         3\n",
       "8          1\n",
       "9          0\n",
       "5          0\n",
       "15         0\n",
       "17         0\n",
       "2          0\n",
       "Name: label, dtype: int64"
      ]
     },
     "execution_count": 6,
     "metadata": {},
     "output_type": "execute_result"
    }
   ],
   "source": [
    "df.groupby('type')['label'].sum().sort_values(ascending = False).head(30)"
   ]
  },
  {
   "cell_type": "code",
   "execution_count": 7,
   "metadata": {},
   "outputs": [
    {
     "data": {
      "image/png": "[encoded data removed]",
      "text/plain": [
       "<Figure size 360x360 with 1 Axes>"
      ]
     },
     "metadata": {
      "needs_background": "light"
     },
     "output_type": "display_data"
    },
    {
     "data": {
      "text/plain": [
       "priority\n",
       "1    3990518\n",
       "3    1744627\n",
       "2     261583\n",
       "0       3272\n",
       "Name: label, dtype: int64"
      ]
     },
     "execution_count": 7,
     "metadata": {},
     "output_type": "execute_result"
    }
   ],
   "source": [
    "plt.figure(figsize=(5,5))\n",
    "sns.scatterplot(data=df.sample(1000000), x=\"priority\", y=\"label\",hue='label',palette=\"deep\",size=\"label\")\n",
    "plt.show()\n",
    "df.groupby('priority')['label'].count().sort_values(ascending = False).head(30)"
   ]
  },
  {
   "cell_type": "code",
   "execution_count": 8,
   "metadata": {},
   "outputs": [
    {
     "data": {
      "image/png": "[encoded data removed]",
      "text/plain": [
       "<Figure size 360x360 with 1 Axes>"
      ]
     },
     "metadata": {
      "needs_background": "light"
     },
     "output_type": "display_data"
    },
    {
     "data": {
      "text/plain": [
       "class\n",
       "0.0    5214845\n",
       "3.0     371753\n",
       "2.0     150393\n",
       "4.0     131468\n",
       "1.0     114117\n",
       "5.0      17424\n",
       "Name: label, dtype: int64"
      ]
     },
     "execution_count": 8,
     "metadata": {},
     "output_type": "execute_result"
    }
   ],
   "source": [
    "plt.figure(figsize=(5,5))\n",
    "sns.scatterplot(data=df.sample(1000000), x=\"class\", y=\"label\",hue='label',palette=\"deep\",size=\"label\")\n",
    "plt.show()\n",
    "df.groupby('class')['label'].count().sort_values(ascending = False).head(30)"
   ]
  },
  {
   "cell_type": "code",
   "execution_count": 9,
   "metadata": {},
   "outputs": [
    {
     "data": {
      "image/png": "[encoded data removed]",
      "text/plain": [
       "<Figure size 360x360 with 1 Axes>"
      ]
     },
     "metadata": {
      "needs_background": "light"
     },
     "output_type": "display_data"
    },
    {
     "data": {
      "text/plain": [
       "is_return\n",
       "0    5993017\n",
       "1       6983\n",
       "Name: label, dtype: int64"
      ]
     },
     "execution_count": 9,
     "metadata": {},
     "output_type": "execute_result"
    }
   ],
   "source": [
    "plt.figure(figsize=(5,5))\n",
    "sns.scatterplot(data=df.sample(1000000), x=\"is_return\", y=\"label\",hue='label',palette=\"deep\",size=\"label\")\n",
    "plt.show()\n",
    "df.groupby('is_return')['label'].count().sort_values(ascending = False).head(30)"
   ]
  },
  {
   "cell_type": "code",
   "execution_count": 10,
   "metadata": {},
   "outputs": [
    {
     "data": {
      "image/png": "[encoded data removed]",
      "text/plain": [
       "<Figure size 360x360 with 1 Axes>"
      ]
     },
     "metadata": {
      "needs_background": "light"
     },
     "output_type": "display_data"
    },
    {
     "data": {
      "text/plain": [
       "mailtype\n",
       "5.0    5992702\n",
       "0.0       5239\n",
       "2.0       1470\n",
       "7.0        462\n",
       "4.0         84\n",
       "1.0         20\n",
       "8.0         19\n",
       "6.0          2\n",
       "9.0          2\n",
       "Name: label, dtype: int64"
      ]
     },
     "execution_count": 10,
     "metadata": {},
     "output_type": "execute_result"
    }
   ],
   "source": [
    "plt.figure(figsize=(5,5))\n",
    "sns.scatterplot(data=df, x=\"mailtype\", y=\"label\",hue='label',palette=\"deep\",size=\"label\")\n",
    "plt.show()\n",
    "df.groupby('mailtype')['label'].count().sort_values(ascending = False).head(30)"
   ]
  },
  {
   "cell_type": "code",
   "execution_count": 11,
   "metadata": {},
   "outputs": [
    {
     "data": {
      "image/png": "[encoded data removed]",
      "text/plain": [
       "<Figure size 360x360 with 1 Axes>"
      ]
     },
     "metadata": {
      "needs_background": "light"
     },
     "output_type": "display_data"
    },
    {
     "data": {
      "text/plain": [
       "mailctg\n",
       " 1.0    4688317\n",
       " 0.0    1257102\n",
       "-1.0      54015\n",
       " 3.0        546\n",
       " 5.0         20\n",
       "Name: label, dtype: int64"
      ]
     },
     "execution_count": 11,
     "metadata": {},
     "output_type": "execute_result"
    }
   ],
   "source": [
    "plt.figure(figsize=(5,5))\n",
    "sns.scatterplot(data=df, x=\"mailctg\", y=\"label\",hue='label',palette=\"deep\",size=\"label\")\n",
    "plt.show()\n",
    "df.groupby('mailctg')['label'].count().sort_values(ascending = False).head(30)"
   ]
  },
  {
   "cell_type": "code",
   "execution_count": 12,
   "metadata": {},
   "outputs": [
    {
     "data": {
      "image/png": "[encoded data removed]",
      "text/plain": [
       "<Figure size 360x360 with 1 Axes>"
      ]
     },
     "metadata": {
      "needs_background": "light"
     },
     "output_type": "display_data"
    },
    {
     "data": {
      "text/plain": [
       "directctg\n",
       "2.0    5930484\n",
       "1.0      69361\n",
       "0.0        155\n",
       "Name: label, dtype: int64"
      ]
     },
     "execution_count": 12,
     "metadata": {},
     "output_type": "execute_result"
    }
   ],
   "source": [
    "plt.figure(figsize=(5,5))\n",
    "sns.scatterplot(data=df, x=\"directctg\", y=\"label\",hue='label',palette=\"deep\",size=\"label\")\n",
    "plt.show()\n",
    "df.groupby('directctg')['label'].count().sort_values(ascending = False).head(30)"
   ]
  },
  {
   "cell_type": "code",
   "execution_count": 13,
   "metadata": {},
   "outputs": [
    {
     "data": {
      "image/png": "[encoded data removed]",
      "text/plain": [
       "<Figure size 360x360 with 1 Axes>"
      ]
     },
     "metadata": {
      "needs_background": "light"
     },
     "output_type": "display_data"
    },
    {
     "data": {
      "text/plain": [
       "name_mfi\n",
       "101       815434\n",
       "74551      48165\n",
       "108790     45032\n",
       "183628     42696\n",
       "93381      25031\n",
       "76659      22516\n",
       "146219     17308\n",
       "119270     15960\n",
       "123382     15887\n",
       "194153     14994\n",
       "85202      14668\n",
       "178151     14129\n",
       "39862      13648\n",
       "121923     13389\n",
       "93066      13122\n",
       "196468     12773\n",
       "37587      12761\n",
       "21386      12600\n",
       "22372      12024\n",
       "61209      11930\n",
       "8532       11352\n",
       "105439      9124\n",
       "90286       8894\n",
       "166674      8436\n",
       "115384      8312\n",
       "96559       8243\n",
       "156467      8172\n",
       "192058      8120\n",
       "157391      7934\n",
       "47099       7902\n",
       "Name: label, dtype: int64"
      ]
     },
     "execution_count": 13,
     "metadata": {},
     "output_type": "execute_result"
    }
   ],
   "source": [
    "plt.figure(figsize=(5,5))\n",
    "sns.scatterplot(data=df, x=\"name_mfi\", y=\"label\",hue='label',palette=\"deep\",size=\"label\")\n",
    "plt.show()\n",
    "df.groupby('name_mfi')['label'].count().sort_values(ascending = False).head(30)"
   ]
  },
  {
   "cell_type": "code",
   "execution_count": 14,
   "metadata": {},
   "outputs": [
    {
     "data": {
      "image/png": "[encoded data removed]",
      "text/plain": [
       "<Figure size 360x360 with 1 Axes>"
      ]
     },
     "metadata": {
      "needs_background": "light"
     },
     "output_type": "display_data"
    },
    {
     "data": {
      "text/plain": [
       "area\n",
       "3      3003257\n",
       "175     196961\n",
       "133     194586\n",
       "184     187901\n",
       "22      153030\n",
       "        ...   \n",
       "0          154\n",
       "134        102\n",
       "231         77\n",
       "80          55\n",
       "4            6\n",
       "Name: label, Length: 237, dtype: int64"
      ]
     },
     "execution_count": 14,
     "metadata": {},
     "output_type": "execute_result"
    }
   ],
   "source": [
    "plt.figure(figsize=(5,5))\n",
    "sns.scatterplot(data=df, x=\"area\", y=\"label\",hue='label',palette=\"deep\",size=\"label\")\n",
    "plt.show()\n",
    "df.groupby('area')['label'].count().sort_values(ascending = False).head(1000)"
   ]
  },
  {
   "cell_type": "code",
   "execution_count": 15,
   "metadata": {},
   "outputs": [
    {
     "data": {
      "image/png": "[encoded data removed]",
      "text/plain": [
       "<Figure size 360x360 with 1 Axes>"
      ]
     },
     "metadata": {
      "needs_background": "light"
     },
     "output_type": "display_data"
    },
    {
     "data": {
      "text/plain": [
       "is_in_yandex\n",
       "1    3585956\n",
       "2    2411374\n",
       "0       2670\n",
       "Name: label, dtype: int64"
      ]
     },
     "execution_count": 15,
     "metadata": {},
     "output_type": "execute_result"
    }
   ],
   "source": [
    "plt.figure(figsize=(5,5))\n",
    "sns.scatterplot(data=df, x=\"is_in_yandex\", y=\"label\",hue='label',palette=\"deep\",size=\"label\")\n",
    "plt.show()\n",
    "df.groupby('is_in_yandex')['label'].count().sort_values(ascending = False).head(1000)"
   ]
  },
  {
   "cell_type": "code",
   "execution_count": null,
   "metadata": {},
   "outputs": [],
   "source": []
  }
 ],
 "metadata": {
  "colab": {
   "provenance": []
  },
  "kernelspec": {
   "display_name": "Python 3 (ipykernel)",
   "language": "python",
   "name": "python3"
  },
  "language_info": {
   "codemirror_mode": {
    "name": "ipython",
    "version": 3
   },
   "file_extension": ".py",
   "mimetype": "text/x-python",
   "name": "python",
   "nbconvert_exporter": "python",
   "pygments_lexer": "ipython3",
   "version": "3.8.10"
  }
 },
 "nbformat": 4,
 "nbformat_minor": 1
}
